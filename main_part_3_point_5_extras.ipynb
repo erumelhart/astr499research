{
 "cells": [
  {
   "cell_type": "code",
   "execution_count": null,
   "metadata": {},
   "outputs": [],
   "source": [
    "ravetable = QTable.read('NEW_rave_tgas_query.csv', format='csv')"
   ]
  },
  {
   "cell_type": "code",
   "execution_count": null,
   "metadata": {},
   "outputs": [],
   "source": [
    "#Assigning columns in the data table to variable names\n",
    "\n",
    "pmra = ravetable['pmRA_TGAS']\n",
    "pmde = ravetable['pmDE_TGAS']\n",
    "ra_tgas = ravetable['RA_TGAS']\n",
    "dec_tgas = ravetable['DE_TGAS']\n",
    "hrv = ravetable['HRV']\n",
    "plx_tgas = ravetable['parallax_TGAS']\n",
    "pmra_cosde = pmra * np.cos(dec_tgas)"
   ]
  },
  {
   "cell_type": "code",
   "execution_count": null,
   "metadata": {},
   "outputs": [],
   "source": [
    "#Adjusting between arcseconds and milliarcseconds\n",
    "\n",
    "pmra = pmra * 0.001\n",
    "pmde = pmde * 0.001\n",
    "plx_tgas = plx_tgas * 0.001"
   ]
  },
  {
   "cell_type": "code",
   "execution_count": null,
   "metadata": {},
   "outputs": [],
   "source": [
    "#Constants for progressing into galactocentric coordinates\n",
    "\n",
    "rangp = np.radians(192.8583)\n",
    "decngp = np.radians(27.1280559)\n",
    "theta0 = np.radians(122.93191857)\n",
    "k = 4.704057"
   ]
  },
  {
   "cell_type": "code",
   "execution_count": 2,
   "metadata": {},
   "outputs": [],
   "source": [
    "c_icrs = SkyCoord(ra=ra_tgas*u.degree, dec=dec_tgas*u.degree, distance=plx_tgas*u.mas)\n",
    "c_icrs = c_icrs.galactic\n",
    "c_icrs"
   ]
  },
  {
   "cell_type": "code",
   "execution_count": null,
   "metadata": {},
   "outputs": [],
   "source": [
    "ucrd = c_icrs.l\n",
    "vcrd = c_icrs.b\n",
    "wcrd = c_icrs.distance"
   ]
  },
  {
   "cell_type": "code",
   "execution_count": null,
   "metadata": {},
   "outputs": [],
   "source": [
    "#Plotting new galactocentric coordinates in 3D velocity space.\n",
    "\n",
    "fig = plt.figure()\n",
    "ax = fig.add_subplot(111,projection='3d')\n",
    "\n",
    "fig.tight_layout()\n",
    "\n",
    "ax.set_xlabel(\"U\")\n",
    "ax.set_ylabel(\"V\")\n",
    "ax.set_zlabel(\"W\")\n",
    "\n",
    "ax.scatter((ucrd), (vcrd), (wcrd), c = 'k', s=0.1, alpha=1);\n",
    "ax.view_init(azim = -140, elev = 40);"
   ]
  },
  {
   "cell_type": "code",
   "execution_count": null,
   "metadata": {},
   "outputs": [],
   "source": [
    "fig, ax = plt.subplots(1,3);\n",
    "fig.set_size_inches(20,6)\n",
    "\n",
    "\n",
    "ax[0].set_xlabel(\"U?\")\n",
    "ax[0].set_ylabel(\"V?\")\n",
    "\n",
    "ax[1].set_xlabel(\"V?\")\n",
    "ax[1].set_ylabel(\"W?\")\n",
    "\n",
    "ax[2].set_xlabel(\"U?\")\n",
    "ax[2].set_ylabel(\"W?\")\n",
    "\n",
    "ax[0].scatter(ucrd, vcrd, s=1);\n",
    "ax[1].scatter(vcrd, wcrd, s=1);\n",
    "ax[2].scatter(ucrd, wcrd, s=1);"
   ]
  },
  {
   "cell_type": "code",
   "execution_count": null,
   "metadata": {},
   "outputs": [],
   "source": [
    "c_icrs = SkyCoord(ra=ra_tgas*u.degree, dec=dec_tgas*u.degree, \n",
    "                  distance=(plx_tgas*u.mas).to(u.pc, u.parallax()),\n",
    "                  pm_ra_cosdec=pmra_cosde*u.mas/u.yr,\n",
    "                  pm_dec=pmde*u.mas/u.yr,\n",
    "                  radial_velocity=hrv*u.km/u.s)\n",
    "d_icrs = c_icrs.galactic"
   ]
  },
  {
   "cell_type": "code",
   "execution_count": null,
   "metadata": {},
   "outputs": [],
   "source": [
    "ucord = d_icrs.pm_l_cosb*u.yr/u.mas\n",
    "vcord = d_icrs.pm_b*u.yr/u.mas\n",
    "wcord = d_icrs.radial_velocity*u.s/u.km\n",
    "\n",
    "\n",
    "fig = plt.figure()\n",
    "ax = fig.add_subplot(111,projection='3d')\n",
    "\n",
    "fig.tight_layout()\n",
    "\n",
    "ax.set_xlabel(\"U?\")\n",
    "ax.set_ylabel(\"V?\")\n",
    "ax.set_zlabel(\"W?\")\n",
    "\n",
    "ax.scatter(ucord, vcord, wcord, c = 'k', s=0.1, alpha=1);\n",
    "ax.view_init(azim = -140, elev = 40);"
   ]
  },
  {
   "cell_type": "code",
   "execution_count": null,
   "metadata": {},
   "outputs": [],
   "source": [
    "fig, ax = plt.subplots(1,3);\n",
    "fig.set_size_inches(20,6)\n",
    "\n",
    "\n",
    "ax[0].set_xlabel(\"U?\")\n",
    "ax[0].set_ylabel(\"V?\")\n",
    "\n",
    "ax[1].set_xlabel(\"V?\")\n",
    "ax[1].set_ylabel(\"W?\")\n",
    "\n",
    "ax[2].set_xlabel(\"U?\")\n",
    "ax[2].set_ylabel(\"W?\")\n",
    "\n",
    "ax[0].scatter(ucord, vcord, s=1);\n",
    "ax[1].scatter(vcord, wcord, s=1);\n",
    "ax[2].scatter(ucord, wcord, s=1);"
   ]
  },
  {
   "cell_type": "code",
   "execution_count": null,
   "metadata": {},
   "outputs": [],
   "source": [
    "uvmask = np.where((ucord < 300) & (ucord > -500) & (vcord < 500) & (vcord > -400) & (wcord < 600) & (wcord > -600))\n",
    "\n",
    "ushort = ucord[uvmask]\n",
    "vshort = vcord[uvmask]\n",
    "wshort = wcord[uvmask]\n",
    "\n",
    "uveryshort = ushort\n",
    "vveryshort = vshort\n",
    "wveryshort = wshort\n",
    "\n",
    "vsarray = np.array([uveryshort, vveryshort, wveryshort]).T\n",
    "#fullarray = np.vstack((ushort.data,vshort.data)).T\n",
    "\n",
    "plt.scatter(uveryshort, vveryshort, s=1);"
   ]
  },
  {
   "cell_type": "code",
   "execution_count": null,
   "metadata": {},
   "outputs": [],
   "source": [
    "#Initial attempt at applying k-means to the dataset. Not sure if I should \n",
    "# be using more or less clusters, or using more or less of the dataset.\n",
    "\n",
    "kmeans = KMeans(n_clusters=7)\n",
    "kmeans.fit(vsarray)\n",
    "y_kmeans = kmeans.predict(vsarray)\n",
    "\n",
    "plt.scatter(vsarray[:, 0], vsarray[:, 1], c=y_kmeans, s=1, cmap='viridis')\n",
    "\n",
    "centers = kmeans.cluster_centers_\n",
    "plt.scatter(centers[:, 0], centers[:, 1], c='red', s=50, alpha=0.75);"
   ]
  },
  {
   "cell_type": "code",
   "execution_count": null,
   "metadata": {},
   "outputs": [],
   "source": [
    "#3D plot of newly implemented random data subsample.\n",
    "\n",
    "fig = plt.figure()\n",
    "ax = fig.add_subplot(111,projection='3d')\n",
    "\n",
    "fig.tight_layout()\n",
    "\n",
    "ax.set_xlabel(\"U\")\n",
    "ax.set_ylabel(\"V\")\n",
    "ax.set_zlabel(\"W\")\n",
    "\n",
    "ax.scatter(vsarray[:, 0], vsarray[:, 1], vsarray[:, 2], c=y_kmeans, s=1, cmap='viridis');\n",
    "#ax.view_init(azim = -140, elev = 40);\n",
    "ax.scatter(centers[:, 0], centers[:, 1], centers[:, 2], c='red', s=50, alpha=0.75);"
   ]
  },
  {
   "cell_type": "code",
   "execution_count": null,
   "metadata": {},
   "outputs": [],
   "source": [
    "#Kernel density estimate plot of V vs W\n",
    "\n",
    "sns.kdeplot(vshort, wshort, legend=True, shade=True, gridsize=200, kernel='gau', cbar=True,\n",
    "            bw=2.1, cmap=\"RdBu_r\", shade_lowest=False)\n",
    "plt.ylim([-100,100])\n",
    "plt.xlim([-50,50])\n",
    "plt.show()"
   ]
  },
  {
   "cell_type": "code",
   "execution_count": null,
   "metadata": {},
   "outputs": [],
   "source": [
    "#Kernel density estimate plot of V vs W\n",
    "\n",
    "sns.kdeplot(ushort, vshort, legend=True, shade=True, gridsize=200, kernel='gau', cbar=True,\n",
    "            bw=2.1, cmap=\"RdBu_r\", shade_lowest=False)\n",
    "plt.ylim([-100,100])\n",
    "plt.xlim([-50,50])\n",
    "plt.show()"
   ]
  },
  {
   "cell_type": "code",
   "execution_count": null,
   "metadata": {},
   "outputs": [],
   "source": [
    "#Kernel density estimate plot of V vs W\n",
    "\n",
    "sns.kdeplot(ushort, wshort, legend=True, shade=True, gridsize=200, kernel='gau', cbar=True,\n",
    "            bw=2.1, cmap=\"RdBu_r\", shade_lowest=False)\n",
    "plt.ylim([-100,100])\n",
    "plt.xlim([-50,50])\n",
    "plt.show()"
   ]
  },
  {
   "cell_type": "code",
   "execution_count": null,
   "metadata": {},
   "outputs": [],
   "source": [
    "ravetable = QTable.read('NEW_rave_tgas_query_incl_bvmag.csv', format='csv')\n",
    "bmag = ravetable['BTmag_TYCHO2']\n",
    "vmag = ravetable['VTmag_TYCHO2']\n",
    "bv = bmag - vmag\n",
    "\n",
    "\n",
    "fig,ax = plt.subplots(1,1)\n",
    "fig.tight_layout()\n",
    "fig.set_size_inches(8,6)\n",
    "\n",
    "ax.set_xlabel(\"B - V\")\n",
    "ax.set_ylabel(\"V Magnitude\")\n",
    "ax.invert_yaxis()\n",
    "    \n",
    "ax.plot(bv, (vmag - 5 * (np.log10(7000)-1)), color='k', marker='o', markersize=1, linestyle='None')\n",
    "plt.show()"
   ]
  },
  {
   "cell_type": "code",
   "execution_count": null,
   "metadata": {},
   "outputs": [],
   "source": [
    "#after switch to Gaia DR2\n",
    "\n",
    "#trying to convert to galactocentric coordinates\n",
    "c_icrs = SkyCoord(ra=ra_gaia, dec=dec_gaia, \n",
    "                  distance=(plx))\n",
    "d_icrs = c_icrs.galactic"
   ]
  },
  {
   "cell_type": "code",
   "execution_count": null,
   "metadata": {},
   "outputs": [],
   "source": [
    "#plotting 3D galactocentric coordinates\n",
    "ucrd = c_icrs.ra\n",
    "vcrd = c_icrs.dec\n",
    "wcrd = c_icrs.distance\n",
    "fig = plt.figure()\n",
    "ax = fig.add_subplot(111,projection='3d')\n",
    "\n",
    "fig.tight_layout()\n",
    "\n",
    "ax.set_xlabel(\"U?\")\n",
    "ax.set_ylabel(\"V?\")\n",
    "ax.set_zlabel(\"W?\")\n",
    "\n",
    "ax.scatter(ucrd, vcrd, wcrd, c = 'k', s=0.1, alpha=1);\n",
    "ax.view_init(azim = -140, elev = 40);"
   ]
  },
  {
   "cell_type": "code",
   "execution_count": null,
   "metadata": {},
   "outputs": [],
   "source": [
    "#2D versions of the above plot\n",
    "fig, ax = plt.subplots(1,3);\n",
    "fig.set_size_inches(20,6)\n",
    "\n",
    "\n",
    "ax[0].set_xlabel(\"U?\")\n",
    "ax[0].set_ylabel(\"V?\")\n",
    "\n",
    "ax[1].set_xlabel(\"V?\")\n",
    "ax[1].set_ylabel(\"W?\")\n",
    "\n",
    "ax[2].set_xlabel(\"U?\")\n",
    "ax[2].set_ylabel(\"W?\")\n",
    "\n",
    "ax[0].scatter(ucrd, vcrd, s=1);\n",
    "ax[1].scatter(vcrd, wcrd, s=1);\n",
    "ax[2].scatter(ucrd, wcrd, s=1);"
   ]
  },
  {
   "cell_type": "code",
   "execution_count": null,
   "metadata": {},
   "outputs": [],
   "source": []
  }
 ],
 "metadata": {
  "kernelspec": {
   "display_name": "Python 3",
   "language": "python",
   "name": "python3"
  },
  "language_info": {
   "codemirror_mode": {
    "name": "ipython",
    "version": 3
   },
   "file_extension": ".py",
   "mimetype": "text/x-python",
   "name": "python",
   "nbconvert_exporter": "python",
   "pygments_lexer": "ipython3",
   "version": "3.6.6"
  }
 },
 "nbformat": 4,
 "nbformat_minor": 2
}
