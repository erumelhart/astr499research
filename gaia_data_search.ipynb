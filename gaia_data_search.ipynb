{
 "cells": [
  {
   "cell_type": "code",
   "execution_count": 1,
   "metadata": {},
   "outputs": [
    {
     "name": "stdout",
     "output_type": "stream",
     "text": [
      "Created TAP+ (v1.0) - Connection:\n",
      "\tHost: gea.esac.esa.int\n",
      "\tUse HTTPS: False\n",
      "\tPort: 80\n",
      "\tSSL Port: 443\n"
     ]
    }
   ],
   "source": [
    "import astropy.units as u\n",
    "from astropy.coordinates.sky_coordinate import SkyCoord\n",
    "from astropy.units import Quantity\n",
    "from astroquery.gaia import Gaia"
   ]
  },
  {
   "cell_type": "code",
   "execution_count": 2,
   "metadata": {},
   "outputs": [],
   "source": [
    "%matplotlib inline\n",
    "import matplotlib.pyplot as plt\n",
    "import numpy as np\n",
    "\n",
    "# Suppress warnings. Comment this out if you wish to see the warning messages\n",
    "import warnings\n",
    "warnings.filterwarnings('ignore')"
   ]
  },
  {
   "cell_type": "code",
   "execution_count": 12,
   "metadata": {},
   "outputs": [
    {
     "name": "stdout",
     "output_type": "stream",
     "text": [
      "Launched query: 'SELECT * FROM gaiadr1.tgas_source WHERE CONTAINS(POINT('ICRS', ra, dec), CIRCLE('ICRS', 192.858333, 27.12834, 4))=1;'\n",
      "Retrieving async. results...\n",
      "Jobid: 1517523393231O\n",
      "Phase: None\n",
      "Owner: None\n",
      "Output file: async_20180201141633.vot\n",
      "Results: None\n"
     ]
    }
   ],
   "source": [
    "#starting with north galactic pole using tgas_source for parallax measurements\n",
    "job = Gaia.launch_job_async(\"SELECT * \\\n",
    "FROM gaiadr1.tgas_source \\\n",
    "WHERE CONTAINS(POINT('ICRS', ra, dec), CIRCLE('ICRS', 192.858333, 27.12834, 4))=1;\" \\\n",
    "                           , dump_to_file=True)\n",
    "print(job)"
   ]
  },
  {
   "cell_type": "code",
   "execution_count": 14,
   "metadata": {},
   "outputs": [
    {
     "name": "stdout",
     "output_type": "stream",
     "text": [
      "     parallax     \n",
      "    Angle[mas]    \n",
      "------------------\n",
      "2.6725411005175337\n",
      "2.2158105171417746\n",
      "1.2724491175329222\n",
      "1.7460083647740836\n",
      "0.2981118295556865\n",
      " 6.924719334030714\n",
      " 4.326245391966138\n",
      "1.0404763558696706\n",
      " 1.856969872436767\n",
      " 5.178750280764819\n",
      "               ...\n",
      "12.042329001419736\n",
      "5.4919254405487035\n",
      "  9.75129774260565\n",
      "2.2355347151154206\n",
      " 2.972435450552607\n",
      " 24.17516625891507\n",
      "1.6986292818010305\n",
      "1.9030556991881908\n",
      " 2.763167458611259\n",
      " 4.086905894352304\n",
      "Length = 996 rows\n"
     ]
    }
   ],
   "source": [
    "table = job.get_results()\n",
    "print(table['parallax'])"
   ]
  },
  {
   "cell_type": "code",
   "execution_count": 21,
   "metadata": {},
   "outputs": [],
   "source": [
    "def distance():\n",
    "    plx = table['parallax']\n",
    "    plx = plx / 1000 #to arcseconds from mas\n",
    "    d = 1/plx\n",
    "    return print(d)"
   ]
  },
  {
   "cell_type": "code",
   "execution_count": 22,
   "metadata": {},
   "outputs": [
    {
     "name": "stdout",
     "output_type": "stream",
     "text": [
      "     parallax     \n",
      "------------------\n",
      " 374.1757235487797\n",
      "451.30212726398787\n",
      " 785.8860415093392\n",
      " 572.7349422689565\n",
      " 3354.445885258648\n",
      " 144.4101849854937\n",
      "231.14731352433353\n",
      " 961.0982453937276\n",
      " 538.5116984627072\n",
      " 193.0967792971697\n",
      "               ...\n",
      "128.09131098222943\n",
      " 83.04041517899938\n",
      "182.08550185635607\n",
      " 102.5504529136436\n",
      "447.32027341761506\n",
      "336.42446291443923\n",
      " 41.36476205747831\n",
      " 588.7099738088322\n",
      " 525.4706945396196\n",
      " 361.9035092801036\n",
      " 244.6838820981663\n",
      "Length = 996 rows\n"
     ]
    }
   ],
   "source": [
    "distance()"
   ]
  },
  {
   "cell_type": "code",
   "execution_count": null,
   "metadata": {},
   "outputs": [],
   "source": []
  }
 ],
 "metadata": {
  "kernelspec": {
   "display_name": "Python 3",
   "language": "python",
   "name": "python3"
  },
  "language_info": {
   "codemirror_mode": {
    "name": "ipython",
    "version": 3
   },
   "file_extension": ".py",
   "mimetype": "text/x-python",
   "name": "python",
   "nbconvert_exporter": "python",
   "pygments_lexer": "ipython3",
   "version": "3.6.4"
  }
 },
 "nbformat": 4,
 "nbformat_minor": 2
}
