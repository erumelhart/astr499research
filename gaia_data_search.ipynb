{
 "cells": [
  {
   "cell_type": "code",
   "execution_count": 2,
   "metadata": {},
   "outputs": [
    {
     "name": "stdout",
     "output_type": "stream",
     "text": [
      "Created TAP+ (v1.0) - Connection:\n",
      "\tHost: gea.esac.esa.int\n",
      "\tUse HTTPS: False\n",
      "\tPort: 80\n",
      "\tSSL Port: 443\n"
     ]
    }
   ],
   "source": [
    "import numpy as np\n",
    "from importlib import reload\n",
    "import astropy.units as u\n",
    "from astropy.coordinates.sky_coordinate import SkyCoord\n",
    "from astropy.units import Quantity\n",
    "from astroquery.gaia import Gaia"
   ]
  },
  {
   "cell_type": "code",
   "execution_count": 3,
   "metadata": {},
   "outputs": [],
   "source": [
    "%matplotlib inline\n",
    "import matplotlib.pyplot as plt\n",
    "import numpy as np\n",
    "\n",
    "import warnings\n",
    "warnings.filterwarnings('ignore')"
   ]
  },
  {
   "cell_type": "code",
   "execution_count": 4,
   "metadata": {},
   "outputs": [
    {
     "name": "stdout",
     "output_type": "stream",
     "text": [
      "Launched query: 'SELECT * FROM gaiadr1.tgas_source WHERE CONTAINS(POINT('ICRS', ra, dec), CIRCLE('ICRS', 192.858333, 27.12834, 4))=1;'\n",
      "Retrieving async. results...\n",
      "Jobid: 1517800748611O\n",
      "Phase: None\n",
      "Owner: None\n",
      "Output file: async_20180204191908.vot\n",
      "Results: None\n"
     ]
    }
   ],
   "source": [
    "#starting with north galactic pole using tgas_source for parallax measurements\n",
    "job = Gaia.launch_job_async(\"SELECT * \\\n",
    "FROM gaiadr1.tgas_source \\\n",
    "WHERE CONTAINS(POINT('ICRS', ra, dec), CIRCLE('ICRS', 192.858333, 27.12834, 4))=1;\" \\\n",
    "                           , dump_to_file=True)\n",
    "print(job)"
   ]
  },
  {
   "cell_type": "code",
   "execution_count": 5,
   "metadata": {},
   "outputs": [],
   "source": [
    "table = job.get_results()\n",
    "#print(table['parallax'])"
   ]
  },
  {
   "cell_type": "code",
   "execution_count": 15,
   "metadata": {},
   "outputs": [],
   "source": [
    "plx = table['parallax']\n",
    "plx = plx / 1000 #to arcseconds from mas\n",
    "plx = 1/plx\n",
    "dist_mask = np.where(plx <= 300)\n",
    "lim_table = table[dist_mask]"
   ]
  },
  {
   "cell_type": "code",
   "execution_count": 16,
   "metadata": {},
   "outputs": [
    {
     "name": "stdout",
     "output_type": "stream",
     "text": [
      " hip   tycho2_id      solution_id     ...      ecl_lon            ecl_lat      \n",
      "                                      ...        deg                deg        \n",
      "----- ----------- ------------------- ... ------------------ ------------------\n",
      "   --  2532-254-1 1635378410781933568 ... 180.89123247218856  33.48230513954752\n",
      "   --  1995-228-1 1635378410781933568 ...  180.2423092196195  32.68714400078409\n",
      "   -- 1995-1639-1 1635378410781933568 ...  182.7068530890685  32.02256751122316\n",
      "   -- 1995-1839-1 1635378410781933568 ...  181.4521692145934  31.33440546075399\n",
      "   -- 1995-1296-1 1635378410781933568 ...  182.0924753236881  31.08293074099909\n",
      "   --   1996-30-1 1635378410781933568 ... 183.43095935687472  32.38046883895929\n",
      "   -- 1995-1447-1 1635378410781933568 ...  182.3089482485203 30.122755622921144\n",
      "   --  1995-887-1 1635378410781933568 ... 182.23932268552363  30.36538184831903\n",
      "   -- 1995-1153-1 1635378410781933568 ... 182.74201244081092  30.46770628148022\n",
      "   --  1995-392-1 1635378410781933568 ... 183.14553909283163  31.13924434600008\n",
      "  ...         ...                 ... ...                ...                ...\n",
      "62570          -- 1635378410781933568 ... 178.82021446834048 30.783719396482304\n",
      "61835          -- 1635378410781933568 ...  177.1489033760202 29.283197180404454\n",
      "62752          -- 1635378410781933568 ... 179.97412139541282  29.90813549853332\n",
      "62857          -- 1635378410781933568 ... 180.55882253367744  29.66962356881118\n",
      "62944          -- 1635378410781933568 ... 180.77468654940307 29.747500405199595\n",
      "62507          -- 1635378410781933568 ... 179.63649171972972  29.04988217786048\n",
      "62614          -- 1635378410781933568 ... 180.00660745331024   29.0256852189713\n",
      "61442          -- 1635378410781933568 ... 175.50956097906126 29.751078216799357\n",
      "61739          -- 1635378410781933568 ... 176.15234402884602 30.479966731054127\n",
      "61655          -- 1635378410781933568 ...  175.7112946319649 30.781077784617704\n",
      "Length = 470 rows\n"
     ]
    }
   ],
   "source": [
    "print(lim_table)"
   ]
  },
  {
   "cell_type": "code",
   "execution_count": 19,
   "metadata": {},
   "outputs": [
    {
     "data": {
      "image/png": "[encoded data removed]",
      "text/plain": [
       "<matplotlib.figure.Figure at 0x7f391e910f60>"
      ]
     },
     "metadata": {},
     "output_type": "display_data"
    }
   ],
   "source": [
    "x = lim_table['ra']\n",
    "y = lim_table['dec']\n",
    "    \n",
    "fig = plt.figure()\n",
    "ax = fig.add_subplot(111)\n",
    "fig.set_size_inches(8,8)\n",
    " \n",
    "fig.tight_layout()\n",
    "\n",
    "ax.set_ylabel(\"Declination\")\n",
    "ax.set_xlabel(\"Right Ascension\")\n",
    "    \n",
    "ax.plot(x, y, color='b', marker='o', markersize=3, linestyle='None');"
   ]
  },
  {
   "cell_type": "code",
   "execution_count": null,
   "metadata": {},
   "outputs": [],
   "source": []
  }
 ],
 "metadata": {
  "kernelspec": {
   "display_name": "Python 3",
   "language": "python",
   "name": "python3"
  },
  "language_info": {
   "codemirror_mode": {
    "name": "ipython",
    "version": 3
   },
   "file_extension": ".py",
   "mimetype": "text/x-python",
   "name": "python",
   "nbconvert_exporter": "python",
   "pygments_lexer": "ipython3",
   "version": "3.6.4"
  }
 },
 "nbformat": 4,
 "nbformat_minor": 2
}
